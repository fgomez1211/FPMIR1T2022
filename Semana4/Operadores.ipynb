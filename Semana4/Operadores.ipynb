{
 "cells": [
  {
   "cell_type": "markdown",
   "metadata": {},
   "source": [
    "# Operadores\n",
    "### Operadores Relacionales"
   ]
  },
  {
   "cell_type": "code",
   "execution_count": null,
   "metadata": {},
   "outputs": [],
   "source": [
    "Num1=int(input(\"Ingrese numero1: \"))\n",
    "Num2=int(input(\"Ingrese numero2: \"))\n",
    "\n",
    "print(\"El resultado de == es: \",(Num1==Num2))\n",
    "print(\"El resultado de != es: \",(Num1!=Num2))\n",
    "print(\"El resultado de Num1>Num2 es: \",(Num1>Num2))\n",
    "print(\"El resultado de Num1<Num2 es: \",(Num1<Num2))\n",
    "print(\"El resultado de Num1>=Num2 es: \",(Num1>=Num2))\n",
    "print(\"El resultado de Num1<=Num2 es: \",(Num1<=Num2))"
   ]
  },
  {
   "cell_type": "markdown",
   "metadata": {},
   "source": [
    "### Operadores Lógicos"
   ]
  },
  {
   "cell_type": "code",
   "execution_count": null,
   "metadata": {},
   "outputs": [],
   "source": [
    "Num1=int(input(\"Ingrese numero1: \"))\n",
    "Num2=int(input(\"Ingrese numero2: \"))\n",
    "\n",
    "print(\"Ambos numeros\",Num1, \"y\",Num2,\"son pares: \", ((Num1%2==0)and(Num2%2==0)))\n",
    "print(\"Al menos uno de los numeros\",Num1,\" y/o \",Num2,\"es par: \", ((Num1%2==0)or(Num2%2==0)))\n",
    "print(\"El NOT de ambos numeros\",Num1,\" y \",Num2,\"son pares: \", not((Num1%2==0)or(Num2%2==0)))"
   ]
  },
  {
   "cell_type": "markdown",
   "metadata": {},
   "source": [
    "### Operadores de Identidad"
   ]
  },
  {
   "cell_type": "code",
   "execution_count": null,
   "metadata": {},
   "outputs": [],
   "source": [
    "#Num1=int(input(\"Ingrese numero1: \"))\n",
    "#Num2=int(input(\"Ingrese numero2: \"))\n",
    "\n",
    "#lista1=range(1,Num1+1)\n",
    "#lista2=range(1,Num2+1)\n",
    "\n",
    "String1=\"Este es un primer texto\"\n",
    "String2=\"Este es un primer texto\"\n",
    "\n",
    "String1 is String2\n",
    "\n"
   ]
  },
  {
   "cell_type": "markdown",
   "metadata": {},
   "source": [
    "### Operadores de Membresía"
   ]
  },
  {
   "cell_type": "code",
   "execution_count": null,
   "metadata": {},
   "outputs": [],
   "source": [
    "Num1=int(input(\"Ingrese numero1: \"))\n",
    "Num2=int(input(\"Ingrese numero2: \"))\n",
    "\n",
    "lista1=list(range(1,Num1+1))\n",
    "\n",
    "print(\"El numero\", Num2,\"pertecenece a la lista1: \", (Num2 in lista1))\n",
    "print(\"El numero\", Num2, \"No pertenece a la lista1:\", (Num2 not in lista1))"
   ]
  }
 ],
 "metadata": {
  "interpreter": {
   "hash": "aee8b7b246df8f9039afb4144a1f6fd8d2ca17a180786b69acc140d282b71a49"
  },
  "kernelspec": {
   "display_name": "Python 3.10.2 64-bit",
   "language": "python",
   "name": "python3"
  },
  "language_info": {
   "codemirror_mode": {
    "name": "ipython",
    "version": 3
   },
   "file_extension": ".py",
   "mimetype": "text/x-python",
   "name": "python",
   "nbconvert_exporter": "python",
   "pygments_lexer": "ipython3",
   "version": "3.10.2"
  },
  "orig_nbformat": 4
 },
 "nbformat": 4,
 "nbformat_minor": 2
}
