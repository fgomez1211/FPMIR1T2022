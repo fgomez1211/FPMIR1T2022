{
 "cells": [
  {
   "cell_type": "markdown",
   "metadata": {},
   "source": [
    "# GetHomework Parte 2"
   ]
  },
  {
   "cell_type": "markdown",
   "metadata": {},
   "source": [
    "### Final"
   ]
  },
  {
   "cell_type": "code",
   "execution_count": 3,
   "metadata": {},
   "outputs": [],
   "source": [
    "import json, requests, os                                       #Importación de librerias, json, requests y os para FilePath\n",
    "\n",
    "\n",
    "Semana = input(\"Ingrese la semana de la forma 'SemanaN': \")     #Usuario ingresa el número se semana en formato \"Semana+N\"\n",
    "FilePath = input(\"Ingrese el directorio del archivo JSON: \")    #Usuario ingresa FilePath + el nombre del archivo con\n",
    "                                                                #terminación .JSON\n",
    "\n",
    "\n",
    "response = requests.get(\"https://fpmir.azurewebsites.net/api/AZFMIR?AZFNUM=\"+Semana).text\n",
    "response_info = json.loads(response)\n",
    "out_file = open(os.path.expanduser(FilePath),\"w\")       \n",
    "json.dump(response_info, out_file, indent=6)\n",
    "out_file.close()\n",
    "\n",
    "\n",
    "#Como el FilePath no es de Windows, busque una solución para OSX y encontré open(os.path.expanduser())\n",
    "#El FilePath utilizado de prueba es: \n",
    "#Espero sea igual de válido.\n"
   ]
  }
 ],
 "metadata": {
  "interpreter": {
   "hash": "aee8b7b246df8f9039afb4144a1f6fd8d2ca17a180786b69acc140d282b71a49"
  },
  "kernelspec": {
   "display_name": "Python 3.10.2 64-bit",
   "language": "python",
   "name": "python3"
  },
  "language_info": {
   "codemirror_mode": {
    "name": "ipython",
    "version": 3
   },
   "file_extension": ".py",
   "mimetype": "text/x-python",
   "name": "python",
   "nbconvert_exporter": "python",
   "pygments_lexer": "ipython3",
   "version": "3.10.2"
  },
  "orig_nbformat": 4
 },
 "nbformat": 4,
 "nbformat_minor": 2
}
