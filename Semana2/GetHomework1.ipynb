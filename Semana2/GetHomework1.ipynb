{
 "cells": [
  {
   "cell_type": "markdown",
   "metadata": {},
   "source": [
    "# GetHomework Parte 1"
   ]
  },
  {
   "cell_type": "code",
   "execution_count": 6,
   "metadata": {},
   "outputs": [
    {
     "name": "stdout",
     "output_type": "stream",
     "text": [
      "https://fpmir.azurewebsites.net/api/AZFMIR?AZFNUM=Semana2\n"
     ]
    }
   ],
   "source": [
    "import webbrowser\n",
    "\n",
    "Num =input(\"Ingrese la semana\")          #Ingresar el número de semana y se almacena en la variable Num\n",
    "\n",
    "\n",
    "def GetHomework(SemanaN):               #Definición de la función GetHomework con el parámetro \"SemanaN\"\n",
    "    return(f\"Semana{SemanaN}\")\n",
    "    \n",
    "\n",
    "GetHomework(Num)                        #Ejecución de la función GetHomwork con \"Num\"\n",
    "\n",
    "Semana = str(GetHomework(Num))          \n",
    "link = \"https://fpmir.azurewebsites.net/api/AZFMIR?AZFNUM=\"\n",
    "\n",
    "homework = link+Semana                  #Concatenación en variable \"homework\"\n",
    "\n",
    "webbrowser.open(homework, new=2)        #Ejecución de interfaz webbrowser.\n",
    "print(homework)\n"
   ]
  },
  {
   "cell_type": "markdown",
   "metadata": {},
   "source": [
    "# GetHomework Parte 2"
   ]
  },
  {
   "cell_type": "code",
   "execution_count": null,
   "metadata": {},
   "outputs": [],
   "source": [
    "import json\n",
    "import requests\n",
    "\n",
    "url = 'https://w3schools.com/python/demopage.php'\n",
    "\n",
    "#demonstrate how to use the 'params' parameter:\n",
    "x = requests.get(url, params = {\"model\": \"FilePath\"})\n",
    "\n",
    "#print the response (the content of the requested file):\n",
    "print(x.text)\n",
    "\n",
    "#the file 'demopage.php' looks for a 'model' query string and prints its value."
   ]
  },
  {
   "cell_type": "code",
   "execution_count": 8,
   "metadata": {},
   "outputs": [
    {
     "name": "stdout",
     "output_type": "stream",
     "text": [
      "Semana2\n"
     ]
    }
   ],
   "source": [
    "import json\n",
    "import requests\n",
    "\n",
    "\n",
    "Semana = input(\"Ingrese la semana de la forma 'SemanaN': \")\n",
    "print(Semana)"
   ]
  }
 ],
 "metadata": {
  "interpreter": {
   "hash": "aee8b7b246df8f9039afb4144a1f6fd8d2ca17a180786b69acc140d282b71a49"
  },
  "kernelspec": {
   "display_name": "Python 3.10.2 64-bit",
   "language": "python",
   "name": "python3"
  },
  "language_info": {
   "codemirror_mode": {
    "name": "ipython",
    "version": 3
   },
   "file_extension": ".py",
   "mimetype": "text/x-python",
   "name": "python",
   "nbconvert_exporter": "python",
   "pygments_lexer": "ipython3",
   "version": "3.10.2"
  },
  "orig_nbformat": 4
 },
 "nbformat": 4,
 "nbformat_minor": 2
}
