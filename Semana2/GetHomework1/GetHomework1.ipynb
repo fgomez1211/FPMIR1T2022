{
 "cells": [
  {
   "cell_type": "markdown",
   "metadata": {},
   "source": [
    "# GetHomework Parte 1"
   ]
  },
  {
   "cell_type": "code",
   "execution_count": 12,
   "metadata": {},
   "outputs": [
    {
     "data": {
      "text/plain": [
       "True"
      ]
     },
     "execution_count": 12,
     "metadata": {},
     "output_type": "execute_result"
    }
   ],
   "source": [
    "import webbrowser\n",
    "\n",
    "SemanaN =input(\"Ingrese la semana:\")    #Ingresar el número de semana en formato: \"Semana+N\".\n",
    "\n",
    "\n",
    "def GetHomework(SemanaN):               #Definición de la función GetHomework con el parámetro \"SemanaN\".\n",
    "    return(SemanaN)\n",
    "    \n",
    "\n",
    "homework = \"https://fpmir.azurewebsites.net/api/AZFMIR?AZFNUM=\"+GetHomework(SemanaN)    #Declaración y concatenación.\n",
    "\n",
    "webbrowser.open(homework, new=2)        #Ejecución de interfaz webbrowser.\n"
   ]
  },
  {
   "cell_type": "markdown",
   "metadata": {},
   "source": [
    "##  Resolución en Clase\n",
    "### Homework 1 y 2"
   ]
  },
  {
   "cell_type": "code",
   "execution_count": 3,
   "metadata": {},
   "outputs": [],
   "source": [
    "import webbrowser, requests, json\n",
    "\n",
    "def GetHomework(SemanaN, FilePath):\n",
    "    Enlace=\"https://fpmir.azurewebsites.net/{}/AZFMIR?AZFNUM={}\".format(\"api\",SemanaN) #format() con sus dos parametros van a sustituir a los corchetes\n",
    "    webbrowser.open(Enlace, new=2)\n",
    "\n",
    "    response=requests.get(Enlace).text\n",
    "    response_info=json.loads(response)\n",
    "    archivo=open(FilePath, \"w\")\n",
    "    json.dump(response_info,archivo,indent=6)\n",
    "    archivo.close()\n",
    "\n",
    "InputSemana = input(\"Ingrese semana: \")\n",
    "InputFile = input(\"Ingrese path y nombre de archivo: \")\n",
    "GetHomework(InputSemana, InputFile)\n"
   ]
  }
 ],
 "metadata": {
  "interpreter": {
   "hash": "aee8b7b246df8f9039afb4144a1f6fd8d2ca17a180786b69acc140d282b71a49"
  },
  "kernelspec": {
   "display_name": "Python 3.10.2 64-bit",
   "language": "python",
   "name": "python3"
  },
  "language_info": {
   "codemirror_mode": {
    "name": "ipython",
    "version": 3
   },
   "file_extension": ".py",
   "mimetype": "text/x-python",
   "name": "python",
   "nbconvert_exporter": "python",
   "pygments_lexer": "ipython3",
   "version": "3.10.2"
  },
  "orig_nbformat": 4
 },
 "nbformat": 4,
 "nbformat_minor": 2
}
