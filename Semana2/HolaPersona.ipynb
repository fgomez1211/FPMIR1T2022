{
 "cells": [
  {
   "cell_type": "markdown",
   "metadata": {},
   "source": [
    "## EJERCICIOS SEMANA 2\n",
    "\n",
    "### Ejercicio No.1"
   ]
  },
  {
   "cell_type": "code",
   "execution_count": null,
   "metadata": {},
   "outputs": [],
   "source": [
    "from datetime import datetime\n",
    "\n",
    "NombrePersona = input(\"Por favor ingrese su nombre:\")\n",
    "\n",
    "print(\"Hola, te envio un saludo\", NombrePersona, \"en la fecha:\", datetime.today().strftime(\"%Y-%m-%d\"))\n"
   ]
  },
  {
   "cell_type": "markdown",
   "metadata": {},
   "source": [
    "### Ejercicio No.2"
   ]
  },
  {
   "cell_type": "code",
   "execution_count": null,
   "metadata": {},
   "outputs": [],
   "source": [
    "numero=int(input(\"Ingrese su numero:\"))\n",
    "#a=numero\n",
    "#b=numero\n",
    "#c=numero\n",
    "print(numero)\n",
    "a=b=c=numero\n",
    "print(a,b,c)\n",
    "b=b**2\n",
    "print(b)\n",
    "a,b=b,a  #Estamos intercambiando los valores entre a y b.\n",
    "print(a,b)\n",
    "print(c)\n",
    "del c"
   ]
  },
  {
   "cell_type": "markdown",
   "metadata": {},
   "source": [
    "### Ejercicio No.3"
   ]
  },
  {
   "cell_type": "code",
   "execution_count": null,
   "metadata": {},
   "outputs": [],
   "source": [
    "entero=int(input(\"Ingrese un entero\"))\n",
    "string=input(\"Ingrese un string\")\n",
    "numerofloat=float(input(\"Ingrese un numero decimal\"))\n",
    "\n",
    "diccionario=dict({\"Nombre\":\"Fernando\",\"Edad\":35, \"Fecha de Nacimiento\":\"11/12/1988\"})\n",
    "print(diccionario)"
   ]
  },
  {
   "cell_type": "markdown",
   "metadata": {},
   "source": [
    "### Ejercicio No.4"
   ]
  },
  {
   "cell_type": "code",
   "execution_count": null,
   "metadata": {},
   "outputs": [],
   "source": [
    "from math import sqrt\n",
    "#import pandas as pd\n",
    "#pd.array()\n",
    "\n",
    "num=int(input(\"Ingrese su numero:\"))\n",
    "print(sqrt(num))"
   ]
  },
  {
   "cell_type": "markdown",
   "metadata": {},
   "source": [
    "### Ejercicio No.5 - Mi primera función"
   ]
  },
  {
   "cell_type": "code",
   "execution_count": 16,
   "metadata": {},
   "outputs": [
    {
     "name": "stdout",
     "output_type": "stream",
     "text": [
      "Suma: 13\n",
      "Resta: 7\n",
      "Multiplicacion: 30\n",
      "Division: 3.3333333333333335\n"
     ]
    }
   ],
   "source": [
    "num1,num2=input(\"Ingrese numeros dos numeros separados por coma:\").split(\",\")\n",
    "num1=int(num1)\n",
    "num2=int(num2)\n",
    "\n",
    "def OperacionesMatematicas(num1,num2):\n",
    "    print(\"Suma:\",(num1+num2))\n",
    "    print(\"Resta:\",(num1-num2))\n",
    "    print(\"Multiplicacion:\", (num1*num2))\n",
    "    print(\"Division:\", (num1/num2))\n",
    "\n",
    "OperacionesMatematicas(num1,num2)\n"
   ]
  }
 ],
 "metadata": {
  "interpreter": {
   "hash": "aee8b7b246df8f9039afb4144a1f6fd8d2ca17a180786b69acc140d282b71a49"
  },
  "kernelspec": {
   "display_name": "Python 3.10.2 64-bit",
   "language": "python",
   "name": "python3"
  },
  "language_info": {
   "codemirror_mode": {
    "name": "ipython",
    "version": 3
   },
   "file_extension": ".py",
   "mimetype": "text/x-python",
   "name": "python",
   "nbconvert_exporter": "python",
   "pygments_lexer": "ipython3",
   "version": "3.10.2"
  },
  "orig_nbformat": 4
 },
 "nbformat": 4,
 "nbformat_minor": 2
}
